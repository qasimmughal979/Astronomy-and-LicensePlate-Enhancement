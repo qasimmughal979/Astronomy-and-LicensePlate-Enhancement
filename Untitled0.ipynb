{
  "nbformat": 4,
  "nbformat_minor": 0,
  "metadata": {
    "colab": {
      "provenance": [],
      "gpuType": "T4",
      "authorship_tag": "ABX9TyNzH5WYY6AIehVHvtFIYIME",
      "include_colab_link": true
    },
    "kernelspec": {
      "name": "python3",
      "display_name": "Python 3"
    },
    "language_info": {
      "name": "python"
    },
    "accelerator": "GPU"
  },
  "cells": [
    {
      "cell_type": "markdown",
      "metadata": {
        "id": "view-in-github",
        "colab_type": "text"
      },
      "source": [
        "<a href=\"https://colab.research.google.com/github/qasimmughal979/Astronomy-and-LicensePlate-Enhancement/blob/main/Untitled0.ipynb\" target=\"_parent\"><img src=\"https://colab.research.google.com/assets/colab-badge.svg\" alt=\"Open In Colab\"/></a>"
      ]
    },
    {
      "cell_type": "markdown",
      "source": [
        "# ***QUESTION 2- PART 1***"
      ],
      "metadata": {
        "id": "QNsdDQ7Wf_q6"
      }
    },
    {
      "cell_type": "code",
      "source": [
        "from google.colab import files\n",
        "import cv2\n",
        "import matplotlib.pyplot as plt\n",
        "import numpy as np\n",
        "\n",
        "# -----------------------------\n",
        "# 1. Upload Image\n",
        "# -----------------------------\n",
        "print(\"📤 Please upload an image...\")\n",
        "uploaded = files.upload()\n",
        "\n",
        "# Take the first uploaded file\n",
        "img_path = list(uploaded.keys())[0]\n",
        "\n",
        "# Read in grayscale\n",
        "img = cv2.imread(img_path, cv2.IMREAD_GRAYSCALE)\n",
        "\n",
        "# Check if image loaded\n",
        "if img is None:\n",
        "    raise ValueError(\"⚠️ Image could not be loaded. Please check the file format/path.\")\n",
        "\n",
        "# -----------------------------\n",
        "# 2. Negative Transformation\n",
        "# Formula: s = L - 1 - r\n",
        "# -----------------------------\n",
        "L = 256\n",
        "negative = L - 1 - img\n",
        "\n",
        "# -----------------------------\n",
        "# 3. Show Images (Original vs Negative)\n",
        "# -----------------------------\n",
        "plt.figure(figsize=(12,5))\n",
        "plt.subplot(1,2,1), plt.imshow(img, cmap=\"gray\"), plt.title(\"Original Image\"), plt.axis(\"off\")\n",
        "plt.subplot(1,2,2), plt.imshow(negative, cmap=\"gray\"), plt.title(\"Negative Image\"), plt.axis(\"off\")\n",
        "plt.show()\n",
        "\n",
        "# -----------------------------\n",
        "# 4. Histograms (Before vs After)\n",
        "# -----------------------------\n",
        "plt.figure(figsize=(12,5))\n",
        "plt.subplot(1,2,1), plt.hist(img.ravel(), bins=256, range=[0,256]), plt.title(\"Original Histogram\")\n",
        "plt.subplot(1,2,2), plt.hist(negative.ravel(), bins=256, range=[0,256]), plt.title(\"Negative Histogram\")\n",
        "plt.show()\n",
        "\n",
        "# -----------------------------\n",
        "# 5. Save Result\n",
        "# -----------------------------\n",
        "output_path = \"negative_output.png\"\n",
        "cv2.imwrite(output_path, negative)\n",
        "print(f\"✅ Negative transformed image saved as {output_path}\")\n",
        "\n",
        "# -----------------------------\n",
        "# 6. Print Transformation Formula\n",
        "# -----------------------------\n",
        "print(\"Transformation Function Used: s = L - 1 - r\")\n",
        "print(f\"Here, L = {L} (for 8-bit grayscale), r = input pixel value\")\n"
      ],
      "metadata": {
        "id": "LW0HtvqlkHX6"
      },
      "execution_count": null,
      "outputs": []
    },
    {
      "cell_type": "markdown",
      "source": [
        "# ***QUESTION 2 -PART 2***\n"
      ],
      "metadata": {
        "id": "7ycmIGJdgNL5"
      }
    },
    {
      "cell_type": "code",
      "source": [
        "import kagglehub, os\n",
        "\n",
        "# Download the car number plate dataset (YOLO format)\n",
        "path = kagglehub.dataset_download(\"sujaymann/car-number-plate-dataset-yolo-format\")\n",
        "print(\"Dataset path:\", path)\n",
        "\n",
        "# Show what's inside\n",
        "print(\"Files in dataset:\", os.listdir(path))\n",
        "print(\"Files in License-Plate-Data:\", os.listdir(os.path.join(path, \"License-Plate-Data\")))\n"
      ],
      "metadata": {
        "id": "-2EuyXC0finx"
      },
      "execution_count": null,
      "outputs": []
    },
    {
      "cell_type": "code",
      "source": [
        "import yaml, os\n",
        "\n",
        "# Dataset main directory\n",
        "dataset_dir = f\"{path}/License-Plate-Data\"\n",
        "print(\"Dataset_dir:\", dataset_dir)\n",
        "\n",
        "# Create a fixed data.yaml with correct paths\n",
        "new_yaml = {\n",
        "    \"train\": f\"{dataset_dir}/train/images\",\n",
        "    \"val\": f\"{dataset_dir}/test/images\",\n",
        "    \"nc\": 1,   # number of classes\n",
        "    \"names\": [\"license_plate\"]\n",
        "}\n",
        "\n",
        "# ✅ Save in writable directory\n",
        "fixed_yaml_path = \"./fixed_data.yaml\"\n",
        "\n",
        "with open(fixed_yaml_path, \"w\") as f:\n",
        "    yaml.dump(new_yaml, f)\n",
        "\n",
        "print(\"✅ Fixed yaml saved at:\", fixed_yaml_path)\n"
      ],
      "metadata": {
        "id": "OTwB7cYve7x3"
      },
      "execution_count": null,
      "outputs": []
    },
    {
      "cell_type": "code",
      "source": [
        "!pip install ultralytics\n"
      ],
      "metadata": {
        "id": "xOJ50GOUaMDD"
      },
      "execution_count": null,
      "outputs": []
    },
    {
      "cell_type": "code",
      "source": [
        "from ultralytics import YOLO\n",
        "\n",
        "# Load small YOLOv8 model (pretrained)\n",
        "model = YOLO(\"yolov8n.pt\")\n",
        "\n",
        "# Train on our dataset\n",
        "model.train(\n",
        "    data=fixed_yaml_path,   # use fixed yaml\n",
        "    epochs=50,              # change to 5 if you just want to test quickly\n",
        "    imgsz=640\n",
        ")\n",
        "\n",
        "# Save trained weights\n",
        "model.save(\"number_plate_detector.pt\")\n"
      ],
      "metadata": {
        "id": "44e9A_5ugZwe"
      },
      "execution_count": null,
      "outputs": []
    },
    {
      "cell_type": "code",
      "source": [
        "import cv2\n",
        "import numpy as np\n",
        "import matplotlib.pyplot as plt\n",
        "from google.colab import files\n",
        "import ipywidgets as widgets\n",
        "from IPython.display import display, clear_output\n",
        "from ultralytics import YOLO\n",
        "\n",
        "# -----------------------------\n",
        "# 1. Load Trained YOLO Model\n",
        "# -----------------------------\n",
        "model = YOLO(\"number_plate_detector.pt\")\n",
        "\n",
        "# -----------------------------\n",
        "# 2. Upload Image\n",
        "# -----------------------------\n",
        "print(\"📤 Please upload a car image...\")\n",
        "uploaded = files.upload()\n",
        "img_path = list(uploaded.keys())[0]\n",
        "\n",
        "# Load image\n",
        "img = cv2.imread(img_path)\n",
        "img_rgb = cv2.cvtColor(img, cv2.COLOR_BGR2RGB)\n",
        "\n",
        "# -----------------------------\n",
        "# 3. Detect Number Plate\n",
        "# -----------------------------\n",
        "results = model.predict(img_path, save=False, verbose=False)\n",
        "plate_crop = None\n",
        "\n",
        "for r in results:\n",
        "    if len(r.boxes) > 0:\n",
        "        # Take highest-confidence box\n",
        "        box = r.boxes[0]\n",
        "        x1, y1, x2, y2 = map(int, box.xyxy[0])\n",
        "        plate_crop = img_rgb[y1:y2, x1:x2]\n",
        "\n",
        "if plate_crop is None:\n",
        "    raise ValueError(\"⚠️ No plate detected!\")\n",
        "\n",
        "# -----------------------------\n",
        "# 4. Thresholding Function\n",
        "# Formula: s = {255 if r > T, else 0}\n",
        "# -----------------------------\n",
        "def apply_threshold(thresh_value=127):\n",
        "    gray = cv2.cvtColor(plate_crop, cv2.COLOR_RGB2GRAY)\n",
        "    _, thresh = cv2.threshold(gray, thresh_value, 255, cv2.THRESH_BINARY)\n",
        "    return gray, thresh\n",
        "\n",
        "# -----------------------------\n",
        "# 5. Interactive Visualization\n",
        "# -----------------------------\n",
        "def update_threshold(thresh_value=127):\n",
        "    clear_output(wait=True)\n",
        "    gray, thresh = apply_threshold(thresh_value)\n",
        "\n",
        "    # Show results\n",
        "    plt.figure(figsize=(14,6))\n",
        "\n",
        "    plt.subplot(2,3,1)\n",
        "    plt.imshow(img_rgb)\n",
        "    plt.title(\"Original Image\")\n",
        "    plt.axis(\"off\")\n",
        "\n",
        "    plt.subplot(2,3,2)\n",
        "    plt.imshow(plate_crop)\n",
        "    plt.title(\"Detected Plate\")\n",
        "    plt.axis(\"off\")\n",
        "\n",
        "    plt.subplot(2,3,3)\n",
        "    plt.imshow(thresh, cmap=\"gray\")\n",
        "    plt.title(f\"Thresholded Plate (T={thresh_value})\")\n",
        "    plt.axis(\"off\")\n",
        "\n",
        "    # Histograms\n",
        "    plt.subplot(2,3,4)\n",
        "    plt.hist(gray.ravel(), bins=256, range=[0,256])\n",
        "    plt.title(\"Original Plate Histogram\")\n",
        "\n",
        "    plt.subplot(2,3,5)\n",
        "    plt.hist(thresh.ravel(), bins=256, range=[0,256])\n",
        "    plt.title(\"Thresholded Histogram\")\n",
        "\n",
        "    plt.tight_layout()\n",
        "    plt.show()\n",
        "\n",
        "    # Save output\n",
        "    output_path = f\"plate_thresh_{thresh_value}.png\"\n",
        "    cv2.imwrite(output_path, thresh)\n",
        "    print(f\"✅ Thresholded plate saved as {output_path}\")\n",
        "\n",
        "    # Print formula\n",
        "    print(\"Transformation Function: s = {255 if r > T, else 0}\")\n",
        "    print(f\"Threshold value used: T = {thresh_value}\")\n",
        "\n",
        "# Slider for thresholding\n",
        "widgets.interact(update_threshold, thresh_value=widgets.IntSlider(value=127, min=0, max=255))\n"
      ],
      "metadata": {
        "id": "HAodGe3DgdTq"
      },
      "execution_count": null,
      "outputs": []
    }
  ]
}